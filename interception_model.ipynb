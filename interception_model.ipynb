{
 "cells": [
  {
   "cell_type": "code",
   "execution_count": 1,
   "id": "be362cd3",
   "metadata": {},
   "outputs": [
    {
     "name": "stderr",
     "output_type": "stream",
     "text": [
      "/home/eznolin/codes/projeto-final-data-science-2025-01/.venv/lib/python3.12/site-packages/tqdm/auto.py:21: TqdmWarning: IProgress not found. Please update jupyter and ipywidgets. See https://ipywidgets.readthedocs.io/en/stable/user_install.html\n",
      "  from .autonotebook import tqdm as notebook_tqdm\n"
     ]
    },
    {
     "name": "stdout",
     "output_type": "stream",
     "text": [
      "Path to dataset files: /home/eznolin/.cache/kagglehub/datasets/piterfm/massive-missile-attacks-on-ukraine/versions/136\n"
     ]
    }
   ],
   "source": [
    "# Interception Effectiveness Modeling Based on Wilkening (1998)\n",
    "\n",
    "import pandas as pd\n",
    "import numpy as np\n",
    "import matplotlib.pyplot as plt\n",
    "import seaborn as sns\n",
    "import kagglehub\n",
    "from sklearn.ensemble import GradientBoostingRegressor\n",
    "from sklearn.ensemble import RandomForestRegressor\n",
    "from sklearn.model_selection import train_test_split\n",
    "from sklearn.metrics import mean_squared_error\n",
    "\n",
    "# Download latest version\n",
    "path = kagglehub.dataset_download(\"piterfm/massive-missile-attacks-on-ukraine\")\n",
    "\n",
    "print(\"Path to dataset files:\", path)\n",
    "\n",
    "# Load data\n",
    "df = pd.read_csv(f\"{path}/missile_attacks_daily.csv\")"
   ]
  },
  {
   "cell_type": "code",
   "execution_count": 2,
   "id": "b5fc680d",
   "metadata": {},
   "outputs": [
    {
     "name": "stdout",
     "output_type": "stream",
     "text": [
      "         time_start             model  launched  destroyed     K_obs  \\\n",
      "0  2025-06-21 21:00    Shahed-136/131      47.0       18.0  0.382979   \n",
      "1  2025-06-21 21:00  Iskander-M/KN-23       2.0        0.0  0.000000   \n",
      "2  2025-06-21 21:00             C-300       1.0        0.0  0.000000   \n",
      "3  2025-06-20 20:00    Shahed-136/131     272.0      140.0  0.514706   \n",
      "4  2025-06-21 02:40            Kalibr       4.0        3.0  0.750000   \n",
      "\n",
      "   estimated_sspk  \n",
      "0        0.242063  \n",
      "1        0.000000  \n",
      "2        0.000000  \n",
      "3        0.345703  \n",
      "4        0.591752  \n"
     ]
    }
   ],
   "source": [
    "\n",
    "# Drop rows with missing key values\n",
    "df = df.dropna(subset=['launched', 'destroyed'])\n",
    "\n",
    "# Calculate observed kill probability (K_obs)\n",
    "df['K_obs'] = df['destroyed'] / df['launched']\n",
    "\n",
    "# Assume default tracking probability and number of interceptors\n",
    "P_track = 0.90\n",
    "n_interceptors = 2  # You can later test with multiple values\n",
    "\n",
    "# Function to calculate theoretical K based on SSPK and n\n",
    "def calculate_K(P_track, k, n):\n",
    "    return P_track * (1 - (1 - k)**n)\n",
    "\n",
    "# Invert the formula to estimate SSPK (k) from observed K\n",
    "# K_obs = P_track * (1 - (1 - k)^n) => k = 1 - (1 - K_obs / P_track)^(1/n)\n",
    "def estimate_sspk(K_obs, P_track, n):\n",
    "    with np.errstate(invalid='ignore'):  # avoid warnings for nan\n",
    "        return 1 - np.power(1 - K_obs / P_track, 1/n)\n",
    "\n",
    "df['estimated_sspk'] = estimate_sspk(df['K_obs'], P_track, n_interceptors)\n",
    "\n",
    "# Display sample results\n",
    "print(df[['time_start', 'model', 'launched', 'destroyed', 'K_obs', 'estimated_sspk']].head())\n",
    "df.to_excel(\"./data_outputs/data_with_estimated_sspk.xlsx\", index=False)"
   ]
  },
  {
   "cell_type": "code",
   "execution_count": null,
   "id": "2340e366",
   "metadata": {},
   "outputs": [],
   "source": [
    "# Agrupar por 'model' e somar 'launched' e 'destroyed'\n",
    "df_grouped = df.groupby('model', as_index=False)[['launched', 'destroyed']].sum()\n",
    "df_grouped.to_excel('./data_outputs/model_launched_destroyed.xlsx', index=False)\n",
    "\n",
    "plt.figure(figsize=(12, 6))\n",
    "sns.boxplot(x='model', y='destroyed', data=df)\n",
    "plt.xticks(rotation=90)\n",
    "plt.tight_layout()\n",
    "plt.show()"
   ]
  },
  {
   "cell_type": "code",
   "execution_count": null,
   "id": "9970551f",
   "metadata": {},
   "outputs": [],
   "source": [
    "\n",
    "# Plot distribution of estimated SSPK values\n",
    "plt.figure(figsize=(8,5))\n",
    "sns.histplot(df['estimated_sspk'].dropna().astype(float), kde=True, bins=20)\n",
    "plt.title(\"Estimated SSPK Distribution (n=3, P(track)=0.95)\")\n",
    "plt.xlabel(\"Estimated SSPK\")\n",
    "plt.ylabel(\"Frequency\")\n",
    "plt.grid(True)\n",
    "plt.tight_layout()\n",
    "plt.show()\n"
   ]
  },
  {
   "cell_type": "code",
   "execution_count": null,
   "id": "5ef5ea6b",
   "metadata": {},
   "outputs": [],
   "source": [
    "# --- Feature 1: Curvas K vs n por tipo de míssil ---\n",
    "def plot_K_vs_n_by_model(df, P_track, k_range=np.linspace(0.5, 0.95, 5), max_n=6):\n",
    "    missile_models = df['model'].dropna().unique()\n",
    "    n_values = np.arange(1, max_n+1)\n",
    "    for model in missile_models:\n",
    "        plt.figure(figsize=(8, 5))\n",
    "        for k in k_range:\n",
    "            K_values = [calculate_K(P_track, k, n) for n in n_values]\n",
    "            plt.plot(n_values, K_values, label=f\"SSPK={k:.2f}\")\n",
    "        plt.title(f\"K vs n for missile model: {model}\")\n",
    "        plt.xlabel(\"Number of Interceptors (n)\")\n",
    "        plt.ylabel(\"Kill Probability (K)\")\n",
    "        plt.ylim(0, 1)\n",
    "        plt.grid(True)\n",
    "        plt.legend()\n",
    "        plt.tight_layout()\n",
    "        plt.show()\n",
    "\n",
    "plot_K_vs_n_by_model(df, P_track)"
   ]
  },
  {
   "cell_type": "code",
   "execution_count": null,
   "id": "de686545",
   "metadata": {},
   "outputs": [],
   "source": [
    "# --- Feature 3: Modelo de Machine Learning para prever K_obs ---\n",
    "# Pré-processamento simples: converter categorias e tratar missing\n",
    "ml_df = df.copy()\n",
    "ml_df = ml_df.dropna(subset=['model', 'target', 'launched'])\n",
    "ml_df['model'] = ml_df['model'].astype('category').cat.codes\n",
    "ml_df['carrier'] = ml_df['carrier'].astype('category').cat.codes if 'carrier' in ml_df.columns else 0\n",
    "ml_df['target'] = ml_df['target'].astype('category').cat.codes  # Encode 'target' as category codes\n",
    "\n",
    "features = ['model', 'target', 'launched']\n",
    "X = ml_df[features]\n",
    "y = ml_df['K_obs']\n",
    "\n",
    "X_train, X_test, y_train, y_test = train_test_split(X, y, test_size=0.2, random_state=42)\n",
    "\n",
    "model = RandomForestRegressor(n_estimators=100, random_state=42)\n",
    "model.fit(X_train, y_train)\n",
    "\n",
    "# Previsões e avaliação\n",
    "y_pred = model.predict(X_test)\n",
    "mse = mean_squared_error(y_test, y_pred)\n",
    "print(f\"\\nRandom Forest MSE na previsão de K_obs: {mse:.4f}\")\n",
    "\n",
    "# Visualização da importância das features\n",
    "feat_importances = pd.Series(model.feature_importances_, index=features)\n",
    "feat_importances.sort_values().plot(kind='barh', title='Importância das Variáveis')\n",
    "plt.xlabel(\"Importância\")\n",
    "plt.tight_layout()\n",
    "plt.show()"
   ]
  },
  {
   "cell_type": "code",
   "execution_count": null,
   "id": "a1dcf989",
   "metadata": {},
   "outputs": [],
   "source": [
    "# --- Parte 4: Modelo de Machine Learning com Gradient Boosting ---\n",
    "ml_df = df.dropna(subset=['model', 'target', 'launched', 'destroyed'])\n",
    "ml_df['model'] = ml_df['model'].astype('category').cat.codes\n",
    "ml_df['target'] = ml_df['target'].astype('category').cat.codes\n",
    "\n",
    "features = ['model', 'target', 'launched', 'destroyed']\n",
    "X = ml_df[features]\n",
    "y = ml_df['K_obs']\n",
    "\n",
    "X_train, X_test, y_train, y_test = train_test_split(X, y, test_size=0.2, random_state=42)\n",
    "model = GradientBoostingRegressor(n_estimators=100, learning_rate=0.1, max_depth=3, random_state=42)\n",
    "model.fit(X_train, y_train)\n",
    "\n",
    "y_pred = model.predict(X_test)\n",
    "mse = mean_squared_error(y_test, y_pred)\n",
    "print(f\"MSE do Gradient Boosting Regressor: {mse:.4f}\")\n",
    "\n",
    "# Importância das features\n",
    "importances = pd.Series(model.feature_importances_, index=features)\n",
    "importances.sort_values().plot(kind='barh', title='Importância das Variáveis')\n",
    "plt.xlabel(\"Importância\")\n",
    "plt.tight_layout()\n",
    "plt.show()\n"
   ]
  }
 ],
 "metadata": {
  "kernelspec": {
   "display_name": ".venv",
   "language": "python",
   "name": "python3"
  },
  "language_info": {
   "codemirror_mode": {
    "name": "ipython",
    "version": 3
   },
   "file_extension": ".py",
   "mimetype": "text/x-python",
   "name": "python",
   "nbconvert_exporter": "python",
   "pygments_lexer": "ipython3",
   "version": "3.12.3"
  }
 },
 "nbformat": 4,
 "nbformat_minor": 5
}
