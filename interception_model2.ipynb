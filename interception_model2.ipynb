{
 "cells": [
  {
   "cell_type": "code",
   "execution_count": null,
   "id": "1650b4e9",
   "metadata": {},
   "outputs": [
    {
     "name": "stdout",
     "output_type": "stream",
     "text": [
      "Path to dataset files: /home/enzo/.cache/kagglehub/datasets/piterfm/massive-missile-attacks-on-ukraine/versions/136\n"
     ]
    }
   ],
   "source": [
    "# Full Interception Effectiveness Notebook (Modelo Estático + Defesa Dinâmica)\n",
    "\n",
    "import pandas as pd\n",
    "import numpy as np\n",
    "import matplotlib.pyplot as plt\n",
    "import seaborn as sns\n",
    "from sklearn.ensemble import RandomForestRegressor\n",
    "from sklearn.model_selection import train_test_split\n",
    "from sklearn.metrics import mean_squared_error\n",
    "import kagglehub\n",
    "\n",
    "# --- Parte 1: Carregamento de Dados ---\n",
    "# Download latest version\n",
    "path = kagglehub.dataset_download(\"piterfm/massive-missile-attacks-on-ukraine\")\n",
    "\n",
    "print(\"Path to dataset files:\", path)\n",
    "\n",
    "# Load data\n",
    "df = pd.read_csv(f\"{path}/missile_attacks_daily.csv\")\n",
    "\n",
    "\n",
    "df = df.dropna(subset=['launched', 'destroyed'])\n",
    "df['K_obs'] = df['destroyed'] / df['launched']\n",
    "df['year'] = pd.to_datetime(df['time_start'], format='mixed').dt.year\n"
   ]
  },
  {
   "cell_type": "code",
   "execution_count": 6,
   "id": "a9ff4fe8",
   "metadata": {},
   "outputs": [],
   "source": [
    "\n",
    "# --- Parte 2: Modelo Estático de Wilkening ---\n",
    "def calculate_K(P_track, k, n):\n",
    "    return P_track * (1 - (1 - k)**n)\n",
    "\n",
    "def estimate_sspk(K_obs, P_track, n):\n",
    "    with np.errstate(invalid='ignore'):\n",
    "        return 1 - np.power(1 - K_obs / P_track, 1/n)\n",
    "\n",
    "P_track = 0.95\n",
    "n_interceptors = 3\n",
    "\n",
    "df['estimated_sspk_static'] = estimate_sspk(df['K_obs'], P_track, n_interceptors)\n"
   ]
  },
  {
   "cell_type": "code",
   "execution_count": null,
   "id": "f916e8a7",
   "metadata": {},
   "outputs": [],
   "source": [
    "\n",
    "# --- Parte 3: Visualização da Estimativa Estática ---\n",
    "plt.figure(figsize=(8,5))\n",
    "sns.histplot(df['estimated_sspk_static'].dropna(), kde=True, bins=20)\n",
    "plt.title(\"Distribuição de SSPK Estimado (Modelo Estático)\")\n",
    "plt.xlabel(\"SSPK Estimado\")\n",
    "plt.ylabel(\"Frequência\")\n",
    "plt.grid(True)\n",
    "plt.tight_layout()\n",
    "plt.show()\n"
   ]
  },
  {
   "cell_type": "code",
   "execution_count": 4,
   "id": "81ebd553",
   "metadata": {},
   "outputs": [],
   "source": [
    "\n",
    "# --- Parte 4: Parâmetros médios por ano ---\n",
    "yearly_params = {\n",
    "    2022: {\"P_track\": 0.85, \"n_interceptors\": 2},\n",
    "    2023: {\"P_track\": 0.90, \"n_interceptors\": 2},\n",
    "    2024: {\"P_track\": 0.93, \"n_interceptors\": 2},\n",
    "    2025: {\"P_track\": 0.95, \"n_interceptors\": 3},\n",
    "}\n",
    "\n",
    "def get_year_based_defense_params(year):\n",
    "    if year in yearly_params:\n",
    "        return yearly_params[year][\"P_track\"], yearly_params[year][\"n_interceptors\"]\n",
    "    else:\n",
    "        return 0.85, 2  # fallback\n"
   ]
  },
  {
   "cell_type": "code",
   "execution_count": null,
   "id": "64f493db",
   "metadata": {},
   "outputs": [],
   "source": [
    "\n",
    "# --- Parte 5: Modelo Dinâmico por Ano ---\n",
    "P_list, n_list = [], []\n",
    "for y in df['year']:\n",
    "    P, n = get_year_based_defense_params(y)\n",
    "    P_list.append(P)\n",
    "    n_list.append(n)\n",
    "df['P_track_dynamic'] = P_list\n",
    "df['n_dynamic'] = n_list\n",
    "df['estimated_sspk_dynamic'] = estimate_sspk(df['K_obs'], df['P_track_dynamic'], df['n_dynamic'])\n"
   ]
  },
  {
   "cell_type": "code",
   "execution_count": null,
   "id": "d869e0c0",
   "metadata": {},
   "outputs": [],
   "source": [
    "\n",
    "# --- Parte 6: Modelo de Machine Learning ---\n",
    "ml_df = df.dropna(subset=['model', 'launched', 'destroyed'])\n",
    "ml_df['model'] = ml_df['model'].astype('category').cat.codes\n",
    "if 'carrier' in ml_df.columns:\n",
    "    ml_df['carrier'] = ml_df['carrier'].astype('category').cat.codes\n",
    "else:\n",
    "    ml_df['carrier'] = 0\n",
    "features = ['model', 'launched', 'carrier']\n",
    "X = ml_df[features]\n",
    "y = ml_df['K_obs']\n",
    "\n",
    "X_train, X_test, y_train, y_test = train_test_split(X, y, test_size=0.2, random_state=42)\n",
    "model = RandomForestRegressor(n_estimators=100, random_state=42)\n",
    "model.fit(X_train, y_train)\n",
    "\n",
    "y_pred = model.predict(X_test)\n",
    "mse = mean_squared_error(y_test, y_pred)\n",
    "print(f\"MSE do modelo de ML: {mse:.4f}\")\n"
   ]
  },
  {
   "cell_type": "code",
   "execution_count": null,
   "id": "b10fdab1",
   "metadata": {},
   "outputs": [],
   "source": [
    "\n",
    "# --- Parte 7: Previsão de Ataques Iminentes ---\n",
    "def predict_from_new_attacks(csv_path):\n",
    "    new_df = pd.read_csv(csv_path)\n",
    "    new_df['year'] = pd.to_datetime(new_df['time_start']).dt.year\n",
    "    P_list, n_list = [], []\n",
    "    for y in new_df['year']:\n",
    "        P, n = get_year_based_defense_params(y)\n",
    "        P_list.append(P)\n",
    "        n_list.append(n)\n",
    "    new_df['P_track'] = P_list\n",
    "    new_df['n_interceptors'] = n_list\n",
    "    sspk_assumed = 0.7\n",
    "    new_df['K_predicted'] = new_df.apply(\n",
    "        lambda row: calculate_K(row['P_track'], sspk_assumed, row['n_interceptors']),\n",
    "        axis=1\n",
    "    )\n",
    "    return new_df[['time_start', 'model', 'launched', 'target', 'P_track', 'n_interceptors', 'K_predicted']]\n",
    "\n",
    "# Exemplo:\n",
    "# predicted_df = predict_from_new_attacks(\"/mnt/data/ataque_iminente.csv\")\n",
    "# print(predicted_df)\n"
   ]
  }
 ],
 "metadata": {
  "kernelspec": {
   "display_name": ".venv",
   "language": "python",
   "name": "python3"
  },
  "language_info": {
   "codemirror_mode": {
    "name": "ipython",
    "version": 3
   },
   "file_extension": ".py",
   "mimetype": "text/x-python",
   "name": "python",
   "nbconvert_exporter": "python",
   "pygments_lexer": "ipython3",
   "version": "3.12.3"
  }
 },
 "nbformat": 4,
 "nbformat_minor": 5
}
